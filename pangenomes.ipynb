{
 "cells": [
  {
   "cell_type": "markdown",
   "metadata": {},
   "source": [
    "# Settings"
   ]
  },
  {
   "cell_type": "code",
   "execution_count": null,
   "metadata": {},
   "outputs": [],
   "source": [
    "import os\n",
    "import glob\n",
    "import math\n",
    "import numpy as np\n",
    "import pandas as pd\n",
    "\n",
    "from scipy.optimize import curve_fit\n",
    "from scipy.cluster.hierarchy import linkage\n",
    "from scipy.spatial.distance import pdist, squareform\n",
    "from scipy.stats import spearmanr, pearsonr, ttest_ind\n",
    "\n",
    "import seaborn as sns\n",
    "import matplotlib.pyplot as plt\n",
    "from matplotlib.lines import Line2D\n",
    "from matplotlib.patches import Patch\n",
    "from statannot import add_stat_annotation\n",
    "from matplotlib import rcParams, cm, colors\n",
    "from matplotlib.ticker import ScalarFormatter\n",
    "from mpl_toolkits.axes_grid.inset_locator import inset_axes"
   ]
  },
  {
   "cell_type": "code",
   "execution_count": null,
   "metadata": {},
   "outputs": [],
   "source": [
    "from IPython.core.interactiveshell import InteractiveShell\n",
    "InteractiveShell.ast_node_interactivity = \"all\"  # allows to see all outputs of a cell rather then just from the last line"
   ]
  },
  {
   "cell_type": "code",
   "execution_count": null,
   "metadata": {},
   "outputs": [],
   "source": [
    "rcParams['font.size'] = 12\n",
    "rcParams['figure.figsize'] = (rcParams['figure.figsize'][0] * 1.5, rcParams['figure.figsize'][1] * 1.5)  # figure size in inches\n",
    "rcParams['savefig.dpi'] = 200  # figure dots per inch\n",
    "rcParams['savefig.format'] = 'png'  # {png, ps, pdf, svg}\n",
    "rcParams['savefig.bbox'] = 'tight'\n",
    "rcParams['savefig.transparent'] = False  # transparent background"
   ]
  },
  {
   "cell_type": "markdown",
   "metadata": {},
   "source": [
    "# Data"
   ]
  },
  {
   "cell_type": "markdown",
   "metadata": {},
   "source": [
    "## Genome assemblies"
   ]
  },
  {
   "cell_type": "code",
   "execution_count": null,
   "metadata": {},
   "outputs": [],
   "source": [
    "# download \"Supplementary Data 1\" from Leviatan, S., Shoer, S., Rothschild, D. et al. \n",
    "# An expanded reference map of the human gut microbiome reveals hundreds of previously unknown species. \n",
    "# Nat Communications 13, 3863 (2022). https://doi.org/10.1038/s41467-022-31502-1\n",
    "!wget https://static-content.springer.com/esm/art%3A10.1038%2Fs41467-022-31502-1/MediaObjects/41467_2022_31502_MOESM4_ESM.xlsx --no-check-certificate"
   ]
  },
  {
   "cell_type": "code",
   "execution_count": null,
   "metadata": {},
   "outputs": [],
   "source": [
    "metadata = pd.read_excel('41467_2022_31502_MOESM4_ESM.xlsx', index_col=0)\n",
    "metadata['Quality score'] = 1*metadata['Completeness'] -5*metadata['Contamination'] + 15*np.log10(metadata['N50'])"
   ]
  },
  {
   "cell_type": "code",
   "execution_count": null,
   "metadata": {},
   "outputs": [],
   "source": [
    "# located in this section to be before filtering to species with 20 genomes\n",
    "metadata[['Completeness', 'Contamination']].median()\n",
    "metadata['Completeness'].min()\n",
    "metadata['Contamination'].max()\n",
    "metadata['type'].value_counts()/metadata.shape[0]*100"
   ]
  },
  {
   "cell_type": "code",
   "execution_count": null,
   "metadata": {},
   "outputs": [],
   "source": [
    "all_species = metadata.loc[metadata['#assemblies'] >= 20, 'species'].tolist()\n",
    "metadata = metadata[metadata['species'].isin(all_species)]"
   ]
  },
  {
   "cell_type": "code",
   "execution_count": null,
   "metadata": {},
   "outputs": [],
   "source": [
    "phyla = metadata.dropna().set_index('species')['p'].str.split('_').str[2]\n",
    "phyla_cmap = {p: cm.get_cmap('nipy_spectral')(i/(phyla.unique().shape[0])) for i, p in enumerate(sorted(phyla.unique()))}"
   ]
  },
  {
   "cell_type": "code",
   "execution_count": null,
   "metadata": {},
   "outputs": [],
   "source": [
    "# download \"Supplementary Data 3\" from Leviatan, S., Shoer, S., Rothschild, D. et al. \n",
    "# An expanded reference map of the human gut microbiome reveals hundreds of previously unknown species. \n",
    "# Nat Communications 13, 3863 (2022). https://doi.org/10.1038/s41467-022-31502-1\n",
    "!wget https://figshare.com/ndownloader/files/31219225 --no-check-certificate\n",
    "!mv 31219225 31219225.gz\n",
    "!gunzip 31219225.gz\n",
    "!mv 31219225 31219225.csv"
   ]
  },
  {
   "cell_type": "code",
   "execution_count": null,
   "metadata": {},
   "outputs": [],
   "source": [
    "# download \"Supplementary Data 5\" from Leviatan, S., Shoer, S., Rothschild, D. et al. \n",
    "# An expanded reference map of the human gut microbiome reveals hundreds of previously unknown species. \n",
    "# Nat Communications 13, 3863 (2022). https://doi.org/10.1038/s41467-022-31502-1\n",
    "!wget https://static-content.springer.com/esm/art%3A10.1038%2Fs41467-022-31502-1/MediaObjects/41467_2022_31502_MOESM7_ESM.xlsx --no-check-certificate"
   ]
  },
  {
   "cell_type": "code",
   "execution_count": null,
   "metadata": {
    "scrolled": true
   },
   "outputs": [],
   "source": [
    "abundance = pd.read_excel('41467_2022_31502_MOESM7_ESM.xlsx', index_col=0)\n",
    "abundance.columns = abundance.columns.str.split('_').str[-1].astype(int)"
   ]
  },
  {
   "cell_type": "markdown",
   "metadata": {},
   "source": [
    "## Pangenomes"
   ]
  },
  {
   "cell_type": "code",
   "execution_count": null,
   "metadata": {},
   "outputs": [],
   "source": [
    "# simplified version of pan_annots of only the sub annotated genes (default core), no matter the copy number\n",
    "\n",
    "def get_sub_annots(in_df, minimum=90, maximum=101):\n",
    "    \n",
    "    out_df = in_df[(in_df['%genomes'] >= minimum) & (in_df['%genomes'] < maximum)]  # is sub\n",
    "    out_df = out_df[out_df['Gene'].str[:6] != 'group_']  # is annotated\n",
    "    out_df['Gene'] = out_df['Gene'].str[:4]  # no matter the copy number\n",
    "    out_df['Gene'] = out_df['Gene'].str.replace('_', '').str.replace('-', '').str.replace('/', '').str.replace('(', '').str.replace(' ', '')  # remove shit\n",
    "    out_df = out_df.reset_index()[['SGB', 'Gene']].drop_duplicates().set_index('SGB')  # once per species\n",
    "\n",
    "    return out_df"
   ]
  },
  {
   "cell_type": "code",
   "execution_count": null,
   "metadata": {},
   "outputs": [],
   "source": [
    "genes_per_genomes = pd.read_excel('Supplementary file 1 - genes statistics.xlsx', sheet_name='genes_per_genomes_random_order', index_col=0)"
   ]
  },
  {
   "cell_type": "code",
   "execution_count": null,
   "metadata": {},
   "outputs": [],
   "source": [
    "genes_type = pd.read_excel('Supplementary file 1 - genes statistics.xlsx', sheet_name='genes_type', index_col=0)\n",
    "genes_type_cmap = {'Core genes': 'tab:red', 'Shell genes': 'gold', 'Cloud genes': 'tab:blue'}"
   ]
  },
  {
   "cell_type": "code",
   "execution_count": null,
   "metadata": {},
   "outputs": [],
   "source": [
    "jaccard20 = pd.read_excel('Supplementary file 2 - genes conservation.xlsx', sheet_name='jaccard_within_species', index_col=0)\n",
    "jaccard_full = pd.read_excel('Supplementary file 2 - genes conservation.xlsx', sheet_name='jaccard_between_species', index_col=[0, 1])"
   ]
  },
  {
   "cell_type": "code",
   "execution_count": null,
   "metadata": {},
   "outputs": [],
   "source": [
    "shell_r = pd.read_excel('Supplementary file 2 - genes conservation.xlsx', sheet_name='spearman_r_within_species', index_col=0)\n",
    "shell_p = pd.read_excel('Supplementary file 2 - genes conservation.xlsx', sheet_name='spearman_p_within_species', index_col=0)"
   ]
  },
  {
   "cell_type": "code",
   "execution_count": null,
   "metadata": {},
   "outputs": [],
   "source": [
    "pan_annots = pd.read_csv('Supplementary file 5 - genes annotations.csv', index_col=0,\n",
    "                         usecols=['SGB', 'Gene', 'length', '%genomes', 'ID', 'best_og_cat', 'best_og_desc', 'PFAMs', 'GENE', 'PRODUCT', 'RESISTANCE']) # reduce file size because very heavy\n",
    "\n",
    "problematic = [449]\n",
    "# remember that fastas, eggnog and antibiotic files do not include species 449\n",
    "\n",
    "# label core, shell and cloud genes\n",
    "pan_annots['Gene type'] = 'Cloud genes [0-10%]'\n",
    "pan_annots.loc[pan_annots['%genomes'] >= 10, 'Gene type'] = 'Shell genes [10-90%]'\n",
    "pan_annots.loc[pan_annots['%genomes'] >= 90, 'Gene type'] = 'Core genes [90-100%]'\n",
    "\n",
    "# unite missing best_og_cat \n",
    "pan_annots['best_og_cat'] = pan_annots['best_og_cat'].replace('-', np.nan).replace('S', np.nan).fillna('Unknown')  # S - function unknown\n",
    "\n",
    "# clean antibiotic ressitences\n",
    "pan_annots['RESISTANCE'] = pan_annots['RESISTANCE'].str.replace('streptogramin_A', 'streptogramin').str.replace('streptogramin_B', 'streptogramin')\n",
    "pan_annots['RESISTANCE'] = pan_annots['RESISTANCE'].str.replace('streptogramin;streptogramin', 'streptogramin').str.replace('streptogramin;streptogramin', 'streptogramin')"
   ]
  },
  {
   "cell_type": "code",
   "execution_count": null,
   "metadata": {},
   "outputs": [],
   "source": [
    "core_annots = get_sub_annots(pan_annots)"
   ]
  },
  {
   "cell_type": "code",
   "execution_count": null,
   "metadata": {},
   "outputs": [],
   "source": [
    "heaps = pd.read_excel('Supplementary file 3 - strain variability.xlsx', sheet_name='heaps_equation', index_col=0)\n",
    "heaps_cmap = cm.ScalarMappable(norm=colors.Normalize(vmin=heaps['a'].min(), vmax=heaps['a'].max()), cmap='Blues')\n",
    "heaps['colors'] = heaps['a'].apply(heaps_cmap.to_rgba)\n",
    "\n",
    "heaps_genes = pd.read_excel('Supplementary file 3 - strain variability.xlsx', sheet_name='genes_association', index_col=0)"
   ]
  },
  {
   "cell_type": "code",
   "execution_count": null,
   "metadata": {},
   "outputs": [],
   "source": [
    "anti = pd.read_excel('Supplementary file 4 - antibiotic resistances.xlsx', sheet_name='antibiotic_resistances', index_col=0)"
   ]
  },
  {
   "cell_type": "markdown",
   "metadata": {},
   "source": [
    "# Results"
   ]
  },
  {
   "cell_type": "markdown",
   "metadata": {
    "heading_collapsed": true
   },
   "source": [
    "## genes fold change"
   ]
  },
  {
   "cell_type": "code",
   "execution_count": null,
   "metadata": {
    "hidden": true
   },
   "outputs": [],
   "source": [
    "genes_type[['n_genomes', 'n_studies', 'All genes', 'Genes in highest quality genome', 'Fold change', 'Genes in 20 genomes', 'Fold change in 20 genomes']].apply(lambda col: \n",
    "            f'{col.quantile(q=0.5, interpolation=\"higher\"):,.2f} [{col.min():,.2f} - {col.max():,.2f}]')"
   ]
  },
  {
   "cell_type": "code",
   "execution_count": null,
   "metadata": {
    "hidden": true
   },
   "outputs": [],
   "source": [
    "spearmanr(genes_type['n_genomes'], genes_type['n_studies'])"
   ]
  },
  {
   "cell_type": "code",
   "execution_count": null,
   "metadata": {
    "hidden": true
   },
   "outputs": [],
   "source": [
    "_ = genes_type['All genes'].hist(log=True)\n",
    "genes_type['All genes'].sort_values().tail()"
   ]
  },
  {
   "cell_type": "code",
   "execution_count": null,
   "metadata": {
    "hidden": true
   },
   "outputs": [],
   "source": [
    "_ = genes_type['Fold change'].hist(log=True)\n",
    "genes_type['Fold change'].sort_values().tail()"
   ]
  },
  {
   "cell_type": "code",
   "execution_count": null,
   "metadata": {
    "hidden": true
   },
   "outputs": [],
   "source": [
    "uppery = 50\n",
    "data = genes_type.copy().join(phyla)\n",
    "data['Fold change'] = data['Fold change'].clip(upper=uppery)\n",
    "\n",
    "# scatter\n",
    "ax = sns.scatterplot(x='n_genomes', y='Fold change', data=data, alpha=0.5, hue='p', hue_order=phyla_cmap.keys(), palette=phyla_cmap)\n",
    "\n",
    "_ = ax.set_xscale('log')\n",
    "ax.xaxis.set_major_formatter(ScalarFormatter())\n",
    "\n",
    "handles, labels = ax.get_legend_handles_labels()\n",
    "_ = ax.legend(handles, labels, title=r'$\\bfPhylum$', bbox_to_anchor=(1, 1.02))\n",
    "\n",
    "_ = ax.set_title(f'median={genes_type[\"Fold change\"].median():.2f}', **{'fontsize': rcParams['font.size']})\n",
    "\n",
    "_ = ax.set_xlabel('Number of strains')\n",
    "_ = ax.set_ylabel('Genes fold change\\n[#pangenome / #highest quality individual genome]')\n",
    "\n",
    "r, p = spearmanr(genes_type['n_genomes'], genes_type['Fold change'])\n",
    "_ = ax.text(x=2800, y=0, s=f'r={r:.2f}, p<1e{math.floor(math.log10(p))+1}', **{'fontsize': rcParams['font.size']})\n",
    "r, p = spearmanr(genes_type['n_studies'], genes_type['Fold change'])\n",
    "'n_studies', r, p\n",
    "\n",
    "for i, (x, s) in enumerate(genes_type.loc[genes_type['Fold change'] > uppery, ['n_genomes', 'Fold change']].values):\n",
    "    _ = ax.text(x=x, y=uppery, s=int(s))\n",
    "    \n",
    "# histogram\n",
    "axins = inset_axes(ax, width=1.5, height=1.7, bbox_transform=ax.transAxes, bbox_to_anchor=(0.07, 0.95), loc='upper left')\n",
    "ax2 = sns.histplot(data['Fold change in 20 genomes'], bins=np.arange(1, 7, 1), stat='percent', color='grey')\n",
    "\n",
    "_ = ax2.set_title(f'median={genes_type[\"Fold change in 20 genomes\"].median():.2f}', **{'fontsize': rcParams['font.size']})\n",
    "\n",
    "_ = ax2.set_xlabel('Genes fold change\\nin pangenome of\\n20 strains')\n",
    "_ = ax2.set_ylabel('')\n",
    "\n",
    "_ = ax2.set_xticks([1.5, 2.5, 3.5, 4.5, 5.5])\n",
    "_ = ax2.set_xticklabels([1, 2, 3, 4, 5])\n",
    "\n",
    "_ = ax2.set_ylim(0, 55)\n",
    "_ = ax2.set_yticks([0, 10, 20, 30, 40, 50])\n",
    "_ = ax2.set_yticklabels(['0%', '10%', '20%', '30%', '40%', '50%'])\n",
    "\n",
    "plt.savefig(os.path.join('figs', 'Figure 1'))"
   ]
  },
  {
   "cell_type": "markdown",
   "metadata": {
    "heading_collapsed": true
   },
   "source": [
    "## core, shell, cloud"
   ]
  },
  {
   "cell_type": "code",
   "execution_count": null,
   "metadata": {
    "hidden": true
   },
   "outputs": [],
   "source": [
    "genes_type[['Core genes', 'Shell genes', 'Cloud genes']].apply(lambda col: \n",
    "           f'{col.quantile(q=0.5, interpolation=\"higher\"):,} [{col.min():,} - {col.max():,}]')"
   ]
  },
  {
   "cell_type": "code",
   "execution_count": null,
   "metadata": {
    "hidden": true
   },
   "outputs": [],
   "source": [
    "genes_type['Cloud genes'].hist(log=True)\n",
    "genes_type['Cloud genes'].sort_values()"
   ]
  },
  {
   "cell_type": "code",
   "execution_count": null,
   "metadata": {
    "hidden": true
   },
   "outputs": [],
   "source": [
    "_ = genes_type.loc[genes_type['n_genomes'] < 30, 'Cloud genes'].hist(bins=50, color=genes_type_cmap['Cloud genes'])\n",
    "_ = plt.xlabel('Number of cloud genes in species with less than 30 strains')\n",
    "_ = plt.ylabel('Count')\n",
    "_ = plt.savefig(os.path.join('figs', '4reviewer - L citreum'))"
   ]
  },
  {
   "cell_type": "code",
   "execution_count": null,
   "metadata": {
    "hidden": true
   },
   "outputs": [],
   "source": [
    "genes_type.sort_values('Cloud genes')"
   ]
  },
  {
   "cell_type": "code",
   "execution_count": null,
   "metadata": {
    "hidden": true
   },
   "outputs": [],
   "source": [
    "genes_type.sort_values('Cloud genes').iloc[0]"
   ]
  },
  {
   "cell_type": "code",
   "execution_count": null,
   "metadata": {
    "hidden": true
   },
   "outputs": [],
   "source": [
    "metadata[metadata['species'] == genes_type['Cloud genes'].idxmin()].dropna().T"
   ]
  },
  {
   "cell_type": "code",
   "execution_count": null,
   "metadata": {
    "hidden": true
   },
   "outputs": [],
   "source": [
    "metadata.loc[metadata['species'] == genes_type['Cloud genes'].idxmin(), 'source'].value_counts()"
   ]
  },
  {
   "cell_type": "code",
   "execution_count": null,
   "metadata": {
    "hidden": true
   },
   "outputs": [],
   "source": [
    "metadata.loc[(metadata['species'] == genes_type['Cloud genes'].idxmin()) & (metadata['source'] == 'Segata')].T.dropna()"
   ]
  },
  {
   "cell_type": "code",
   "execution_count": null,
   "metadata": {
    "hidden": true
   },
   "outputs": [],
   "source": [
    "abundance.shape"
   ]
  },
  {
   "cell_type": "code",
   "execution_count": null,
   "metadata": {
    "hidden": true
   },
   "outputs": [],
   "source": [
    "abundance.loc[:, genes_type[\"Cloud genes\"].idxmin()].dropna().sort_values()*100#.shape"
   ]
  },
  {
   "cell_type": "code",
   "execution_count": null,
   "metadata": {
    "hidden": true
   },
   "outputs": [],
   "source": [
    "abundance.loc[:, genes_type[\"Cloud genes\"].idxmax()].dropna().sort_values()*100#.shape"
   ]
  },
  {
   "cell_type": "code",
   "execution_count": null,
   "metadata": {
    "hidden": true
   },
   "outputs": [],
   "source": [
    "data = genes_type.set_index('n_genomes', append=True)[['Core genes', 'Shell genes', 'Cloud genes']].stack().reset_index()\n",
    "data.columns = ['species', 'n_genomes', 'Gene frequency', 'n_genes']\n",
    "\n",
    "d = {'Core genes': 'Core genes [90-100%]\\n' + \n",
    "     f'r={spearmanr(genes_type[\"Core genes\"], genes_type[\"n_genomes\"])[0]:.2f}, ' + \n",
    "     f'p={spearmanr(genes_type[\"Core genes\"], genes_type[\"n_genomes\"])[1]:.2f}',\n",
    "     'Shell genes': 'Shell genes [10-90%]\\n' + \n",
    "     f'r={spearmanr(genes_type[\"Shell genes\"], genes_type[\"n_genomes\"])[0]:.2f}, ' + \n",
    "     f'p={spearmanr(genes_type[\"Shell genes\"], genes_type[\"n_genomes\"])[1]:.2f}',\n",
    "     'Cloud genes': 'Cloud genes [0-10%]\\n' + \n",
    "     f'r={spearmanr(genes_type[\"Cloud genes\"], genes_type[\"n_genomes\"])[0]:.2f}, ' + \n",
    "     f'p<1e{math.floor(math.log10(spearmanr(genes_type[\"Cloud genes\"], genes_type[\"n_genomes\"])[1]))+1}'}\n",
    "data['Gene frequency'] = data['Gene frequency'].replace(d)\n",
    "\n",
    "ax = sns.scatterplot(x='n_genomes', y='n_genes', hue='Gene frequency', style='Gene frequency', data=data, \n",
    "                     alpha=0.5, markers=['^', '>', 'v'], palette={d[k]:v for k, v in genes_type_cmap.items()})\n",
    "\n",
    "handles, labels = ax.get_legend_handles_labels()\n",
    "_ = ax.legend(reversed(handles), reversed(labels), title=r'$\\bfGene\\;frequency$')\n",
    "\n",
    "_ = plt.xlabel('Number of strains')\n",
    "_ = plt.ylabel('Number of genes')\n",
    "\n",
    "_ = plt.xscale('log')\n",
    "_ = plt.yscale('log')\n",
    "ax.xaxis.set_major_formatter(ScalarFormatter())\n",
    "ax.yaxis.set_major_formatter(ScalarFormatter())\n",
    "\n",
    "_ = ax.text(x=genes_type.loc[genes_type['Cloud genes'].idxmin(), 'n_genomes'], y=genes_type['Cloud genes'].min(), s=' L. citreum', ha='left', **{'fontproperties':{\"style\": \"italic\"}})\n",
    "_ = ax.text(x=genes_type.loc[genes_type['Cloud genes'].idxmax(), 'n_genomes'], y=genes_type['Cloud genes'].max(), s=' P. vulgatus', ha='right', **{'fontproperties':{\"style\": \"italic\"}})\n",
    "\n",
    "plt.savefig(os.path.join('figs', 'Figure 2'))"
   ]
  },
  {
   "cell_type": "code",
   "execution_count": null,
   "metadata": {
    "hidden": true
   },
   "outputs": [],
   "source": [
    "{'Core genes': 'Core genes [90-100%]\\n' + \n",
    " f'r={spearmanr(genes_type[\"Core genes\"], genes_type[\"n_studies\"])[0]:.2f}, ' + \n",
    " f'p={spearmanr(genes_type[\"Core genes\"], genes_type[\"n_studies\"])[1]:.2f}',\n",
    " 'Shell genes': 'Shell genes [10-90%]\\n' + \n",
    " f'r={spearmanr(genes_type[\"Shell genes\"], genes_type[\"n_studies\"])[0]:.2f}, ' + \n",
    " f'p={spearmanr(genes_type[\"Shell genes\"], genes_type[\"n_studies\"])[1]:.4f}',\n",
    " 'Cloud genes': 'Cloud genes [0-10%]\\n' + \n",
    " f'r={spearmanr(genes_type[\"Cloud genes\"], genes_type[\"n_studies\"])[0]:.2f}, ' + \n",
    " f'p<1e{math.floor(math.log10(spearmanr(genes_type[\"Cloud genes\"], genes_type[\"n_studies\"])[1]))+1}'}"
   ]
  },
  {
   "cell_type": "code",
   "execution_count": null,
   "metadata": {
    "hidden": true
   },
   "outputs": [],
   "source": [
    "data = pan_annots.loc[~pan_annots.index.isin(problematic), ['length', 'Gene type']]\n",
    "data['Gene type'] = data['Gene type'].str.split('[').str[0].str[:-1]\n",
    "data = data.groupby(['SGB', 'Gene type'])['length'].mean().reset_index('Gene type')\n",
    "data.groupby('Gene type')['length'].apply(lambda col: f'{col.mean():.2f}±{col.std():.2f}').loc[genes_type_cmap.keys()]\n",
    "\n",
    "order = list(genes_type_cmap.keys())\n",
    "\n",
    "ax = sns.boxplot(x='Gene type', y='length', data=data, order=order, showfliers=False, dodge=False, palette=genes_type_cmap)\n",
    "\n",
    "_ = ax.set_xlabel('')\n",
    "_ = ax.set_ylabel('Gene length')\n",
    "# _ = ax.set_ylim(0, 2500)\n",
    "\n",
    "box_pairs = []\n",
    "for i, o1 in enumerate(order):\n",
    "    for o2 in order[i+1:]:\n",
    "        box_pairs.append((o1, o2))\n",
    "_ = add_stat_annotation(ax, x='Gene type', y='length', data=data, order=order,\n",
    "                        box_pairs=box_pairs, test='t-test_ind', comparisons_correction='bonferroni', text_format='simple', verbose=0)\n",
    "\n",
    "_ = plt.savefig(os.path.join('figs', '4reviewer - genes length'))"
   ]
  },
  {
   "cell_type": "markdown",
   "metadata": {},
   "source": [
    "## strain variability"
   ]
  },
  {
   "cell_type": "code",
   "execution_count": null,
   "metadata": {},
   "outputs": [],
   "source": [
    "data = (~abundance.isna()).sum().to_frame('prevalence').join(abundance.mean().to_frame('abundance')).join(np.log10(abundance.mean()).to_frame('abundance_log'))\n",
    "data = data.loc[all_species].join(heaps)"
   ]
  },
  {
   "cell_type": "code",
   "execution_count": null,
   "metadata": {},
   "outputs": [],
   "source": [
    "_ = sns.scatterplot(x='prevalence', y='a', data=data)\n",
    "spearmanr(data['prevalence'], data['a'])"
   ]
  },
  {
   "cell_type": "code",
   "execution_count": null,
   "metadata": {},
   "outputs": [],
   "source": [
    "_ = sns.scatterplot(x='abundance', y='a', data=data.fillna(0))\n",
    "spearmanr(data['abundance'].fillna(0), data['a'])"
   ]
  },
  {
   "cell_type": "code",
   "execution_count": null,
   "metadata": {},
   "outputs": [],
   "source": [
    "_ = sns.scatterplot(x='abundance_log', y='a', data=data.fillna(0))\n",
    "spearmanr(data['abundance_log'].fillna(0), data['a'])"
   ]
  },
  {
   "cell_type": "code",
   "execution_count": null,
   "metadata": {},
   "outputs": [],
   "source": [
    "core_annots[core_annots['Gene'].isin(heaps_genes.index)].groupby('Gene').apply(len).sort_values()"
   ]
  },
  {
   "cell_type": "code",
   "execution_count": null,
   "metadata": {},
   "outputs": [],
   "source": [
    "core_annots[core_annots['Gene'].isin(heaps_genes[heaps_genes['p_bonferroni'] < 0.05].index)].groupby('Gene').apply(len).sort_values()"
   ]
  },
  {
   "cell_type": "code",
   "execution_count": null,
   "metadata": {},
   "outputs": [],
   "source": [
    "heaps_genes[heaps_genes['p_bonferroni'] < 0.05].sort_values('p')"
   ]
  },
  {
   "cell_type": "code",
   "execution_count": null,
   "metadata": {},
   "outputs": [],
   "source": [
    "heaps_genes[(heaps_genes['p_bonferroni'] < 0.05) & (heaps_genes['s'] > 0)].sort_values('p').shape[0]\n",
    "heaps_genes[(heaps_genes['p_bonferroni'] < 0.05) & (heaps_genes['s'] < 0)].sort_values('p').shape[0]"
   ]
  },
  {
   "cell_type": "code",
   "execution_count": null,
   "metadata": {
    "scrolled": false
   },
   "outputs": [],
   "source": [
    "data = genes_per_genomes.stack().reset_index()\n",
    "data.columns = ['n_genomes', 'species', 'n_genes']\n",
    "data['n_genomes'] = data['n_genomes'] + 1\n",
    "data = data[data['n_genomes'] <= 1000]\n",
    "\n",
    "fig = plt.figure()\n",
    "\n",
    "# lines\n",
    "ax = sns.lineplot(x='n_genomes', y='n_genes', hue='species', data=data, \n",
    "                 hue_order=heaps['a'].sort_values().index.tolist(), palette=heaps['colors'].to_dict(), legend=False)\n",
    "\n",
    "_ = ax.figure.colorbar(heaps_cmap, cax=fig.add_axes([0.145, 0.8, 0.25, 0.05]), **{'orientation': 'horizontal', 'label': 'Strain variability [a]', 'ticks': [0.1, 0.3, 0.5, 0.7]})\n",
    "\n",
    "_ = ax.set_xlabel('Number of strains')\n",
    "_ = ax.set_ylabel('Number of genes')\n",
    "\n",
    "_ = ax.text(x=1000, y=data.loc[data['species'] == 959, 'n_genes'].iloc[-1], s='  E. flexneri', **{'fontproperties':{\"style\": \"italic\"}})\n",
    "\n",
    "plt.savefig(os.path.join('figs', 'Figure 3'))"
   ]
  },
  {
   "cell_type": "code",
   "execution_count": null,
   "metadata": {},
   "outputs": [],
   "source": [
    "color_high = heaps.loc[heaps['a'] == heaps['a'].quantile(0.9, interpolation='lower'), 'colors'].iloc[0]\n",
    "color_low = heaps.loc[heaps['a'] == heaps['a'].quantile(0.1, interpolation='lower'), 'colors'].iloc[0]\n",
    "\n",
    "for gene in heaps_genes[heaps_genes['p_bonferroni'] < 0.05].sort_values('p').index:\n",
    "\n",
    "    have_gene = core_annots[core_annots['Gene'] == gene].index.to_list()\n",
    "    miss_gene = list(set(all_species) - set(have_gene))\n",
    "\n",
    "    heaps[gene] = False\n",
    "    heaps.loc[have_gene, gene] = True\n",
    "    \n",
    "    median_have = heaps.loc[have_gene, 'a'].sort_values().iloc[int(len(have_gene)/2)]\n",
    "    median_miss = heaps.loc[miss_gene, 'a'].sort_values().iloc[int(len(miss_gene)/2)]\n",
    "    \n",
    "    _ = plt.figure(figsize=(2, 3.5))\n",
    "    _ = sns.boxplot(x=gene, y='a', data=heaps, showfliers=False, order=[True, False], \n",
    "                    palette=[color_high, color_low] if median_have > median_miss else [color_low, color_high])\n",
    "    \n",
    "    _ = plt.xticks([0, 1], [f'Have\\ngene\\nn={len(have_gene):,}', f'Missing\\ngene\\nn={len(miss_gene):,}'])\n",
    "    _ = plt.xlabel('')\n",
    "    \n",
    "    _ = plt.ylim(0, 1)\n",
    "    _ = plt.ylabel('Strain variability [a]')\n",
    "    \n",
    "    _ = plt.title(f'{gene} gene')\n",
    "    _ = plt.text(x=0.1, y=0.9, s=f'p<1e{math.floor(math.log10(heaps_genes.loc[[gene], \"p_bonferroni\"].iloc[0]))+1}')\n",
    "    \n",
    "    plt.savefig(os.path.join('figs', 'heaps genes', gene))\n",
    "    plt.close()"
   ]
  },
  {
   "cell_type": "markdown",
   "metadata": {
    "heading_collapsed": true
   },
   "source": [
    "## antibiotic resistances"
   ]
  },
  {
   "cell_type": "code",
   "execution_count": null,
   "metadata": {
    "hidden": true,
    "scrolled": false
   },
   "outputs": [],
   "source": [
    "# sorter = (anti == 0).sum().to_frame('no resistance').join(phyla).sort_values(['p', 'no resistance'])\n",
    "# data = anti.loc[(anti > 0).sum(axis=1).sort_values(ascending=False).index, sorter.index] # just sorting\n",
    "data = anti.copy()\n",
    "\n",
    "specific_names = ['polymyxin|colistin', 'aztreonam', 'tigecycline', 'fosfomycin', 'daptomycin', 'linezolid', 'vancomycin']\n",
    "class_names = ['carbapenem']#, 'cephalosporin']\n",
    "# 'carbapenem|meropenem' and 'cephalosporin' are excluded because they are antibiotic classes\n",
    "# in cephalosporin we should only take 4th and 5th generation, however the annotations are not specific enough to distinguish\n",
    "# data = data.loc[data.index[~data.index.isin(specific_names)].tolist() + data.index[data.index.isin(class_names) | data.index.isin(specific_names)].tolist()]\n",
    "\n",
    "col_colors = phyla[anti.columns].map(phyla_cmap)\n",
    "\n",
    "ax = sns.clustermap(data=data, mask=data==0, vmin=0, vmax=100, cmap='Reds', cbar_kws={'label': '% Strains with antibiotic resistance'},\n",
    "                    col_cluster=False, row_cluster=False,\n",
    "                    figsize=(20, 8), cbar_pos=(0.88, 0.025, 0.02, 0.4), dendrogram_ratio=0.0001,\n",
    "                    xticklabels=False, col_colors=col_colors,\n",
    "                    yticklabels=[f'{l[0].upper()}{l[1:]}' for l in \n",
    "                                 data.index.str.replace('disinfecting_agents_and_antiseptics', 'disinfecting&antiseptics').str.replace('_', ' ').str.replace('polymyxin\\|colistin', 'polymyxin')])\n",
    "\n",
    "handles = [Patch(facecolor=color) for color in phyla_cmap.values()]\n",
    "_ = ax.ax_heatmap.legend(handles, phyla_cmap, title=r'$\\bfPhylum$', bbox_to_anchor=(1.14, 1.05))\n",
    "\n",
    "_ = ax.ax_col_colors.set_yticks([])\n",
    "\n",
    "_ = ax.ax_heatmap.yaxis.label_position = 'left'\n",
    "_ = ax.ax_heatmap.yaxis.tick_left()\n",
    "\n",
    "_ = ax.ax_heatmap.axhline(y=0, color='black', linewidth=1.5)\n",
    "_ = ax.ax_heatmap.axhline(y=ax.ax_heatmap.get_ylim()[0], color='black', linewidth=1.5)\n",
    "_ = ax.ax_heatmap.axhline(y=ax.ax_heatmap.get_ylim()[0]-data.index.intersection(specific_names+class_names).shape[0], color='black', linewidth=1.5)\n",
    "_ = ax.ax_heatmap.axvline(x=0, color='black', linewidth=1.5)\n",
    "_ = ax.ax_heatmap.axvline(x=ax.ax_heatmap.get_xlim()[1], color='black', linewidth=1.5)\n",
    "\n",
    "_ = ax.ax_heatmap.set_xlabel('Species', labelpad=-80)\n",
    "_ = ax.ax_heatmap.set_ylabel('Last resort                                           Antibiotic class\\nantibiotics', loc='bottom')\n",
    "\n",
    "labels2show = {\n",
    "    959: '\\nEnterobacteriaceae',\n",
    "    \n",
    "    807: 'S. maltophilia', # Stenotrophomonas\n",
    "    796: 'C. kerstersii\\n\\n\\n', # Comamonas\n",
    "    \n",
    "    2746: 'B. wadsworthia', # Bilophila\n",
    "    1190: 'S. epidermidis\\n\\n', # Staphylococcus\n",
    "    \n",
    "    477: 'Bacteroides',\n",
    "    1113: 'Enterococcus\\n\\n',\n",
    "    \n",
    "    482: 'B. fragilis', # Bacteroides\n",
    "    1374: 'C. difficile', # Clostridioides\n",
    "    1880: 'V. seminalis', # Veillonella\n",
    "}\n",
    "\n",
    "_ = ax.ax_heatmap.set_xticks([data.columns.get_loc(l) for l in labels2show.keys()])\n",
    "_ = ax.ax_heatmap.set_xticklabels(list(labels2show.values()), **{'ha':'left', 'fontproperties':{\"style\": \"italic\"}, 'rotation':-30})\n",
    "\n",
    "plt.savefig(os.path.join('figs', 'Figure 4'))"
   ]
  },
  {
   "cell_type": "code",
   "execution_count": null,
   "metadata": {
    "hidden": true
   },
   "outputs": [],
   "source": [
    "card_classes = ['albendazole-like',  'alkaloids',  'allylamine',  'aminocoumarin',  'aminoglycoside',  'ansamycin',  'antibacterial_free_fatty_acids',  'bicyclomycin-like',  'carbapenem',  'cephalosporin',  'cephamycin',  'cyclomarin',  'cycloserine-like',  'diaminopyrimidine',  'diarylquinoline',  'disinfecting_agents_and_antiseptics',  'echinocandin',  'elfamycin',  'fluoroquinolone',  'fusidane',  'glycopeptide',  'glycylcycline',  'imidazole',  'ionophore',  'isoniazid-like',  'lincosamide',  'macrocyclic',  'macrolide',  'metallophores',  'monobactam',  'mupirocin-like',  'nitrofuran',  'nitroimidazole',  'nucleoside',  'nybomycin-like',  'organoarsenic',  'orthosomycin',  'oxacephem',  'oxazolidinone',  'pactamycin-like',  'penam',  'penem',  'peptide',  'phenicol',  'phosphonic_acid',  'pleuromutilin',  'polyamine',  'polyene',  'polyketide',  'protegrin-1-like',  'pyrazine',  'quinone',  'rifamycin',  'salicylic_acid',  'streptogramin',  'sulfonamide',  'sulfone',  'terpene',  'tetracenomycin',  'tetracycline',  'thiazolide',  'thioamide',  'thiosemicarbazone',  'triazaacenaphthylene',  'triazole',  'zoliflodacin-like']"
   ]
  },
  {
   "cell_type": "code",
   "execution_count": null,
   "metadata": {
    "hidden": true
   },
   "outputs": [],
   "source": [
    "len(card_classes)"
   ]
  },
  {
   "cell_type": "code",
   "execution_count": null,
   "metadata": {
    "hidden": true,
    "scrolled": true
   },
   "outputs": [],
   "source": [
    "len(set(card_classes) - set(anti.index))"
   ]
  },
  {
   "cell_type": "code",
   "execution_count": null,
   "metadata": {
    "hidden": true
   },
   "outputs": [],
   "source": [
    "print(set(card_classes) - set(anti.index))"
   ]
  },
  {
   "cell_type": "code",
   "execution_count": null,
   "metadata": {
    "hidden": true
   },
   "outputs": [],
   "source": [
    "data = pan_annots[['%genomes', 'GENE', 'PRODUCT', 'RESISTANCE', 'Gene type']].dropna()"
   ]
  },
  {
   "cell_type": "code",
   "execution_count": null,
   "metadata": {
    "hidden": true
   },
   "outputs": [],
   "source": [
    "data.shape"
   ]
  },
  {
   "cell_type": "code",
   "execution_count": null,
   "metadata": {
    "hidden": true
   },
   "outputs": [],
   "source": [
    "pan_annots['GENE'].dropna().str[:4].str.replace('_', '').str.replace('-', '').str.replace('/', '').str.replace('(', '').str.replace(' ', '').value_counts()"
   ]
  },
  {
   "cell_type": "code",
   "execution_count": null,
   "metadata": {
    "hidden": true
   },
   "outputs": [],
   "source": [
    "data['Gene type'].value_counts()/data.shape[0]*100"
   ]
  },
  {
   "cell_type": "code",
   "execution_count": null,
   "metadata": {
    "hidden": true
   },
   "outputs": [],
   "source": [
    "data.index.unique().shape"
   ]
  },
  {
   "cell_type": "code",
   "execution_count": null,
   "metadata": {
    "hidden": true
   },
   "outputs": [],
   "source": [
    "flat = anti.loc[anti.index.difference(specific_names)].drop_duplicates().replace(0, np.nan).stack().sort_values()"
   ]
  },
  {
   "cell_type": "code",
   "execution_count": null,
   "metadata": {
    "hidden": true
   },
   "outputs": [],
   "source": [
    "pd.cut(flat, bins=[0, 10, 90, 100]).value_counts()"
   ]
  },
  {
   "cell_type": "code",
   "execution_count": null,
   "metadata": {
    "hidden": true,
    "scrolled": true
   },
   "outputs": [],
   "source": [
    "flat[flat > 90].reset_index().join(phyla, on='level_1')['p'].value_counts()"
   ]
  },
  {
   "cell_type": "code",
   "execution_count": null,
   "metadata": {
    "hidden": true,
    "scrolled": false
   },
   "outputs": [],
   "source": [
    "flat[flat > 90].index.get_level_values(1).value_counts().to_frame('vc').join(phyla).join(metadata.dropna().set_index('species')[['f', 'g', 's']])"
   ]
  },
  {
   "cell_type": "code",
   "execution_count": null,
   "metadata": {
    "hidden": true,
    "scrolled": false
   },
   "outputs": [],
   "source": [
    "(anti.loc[anti.index.difference(specific_names).drop_duplicates(), sorted(metadata.loc[metadata['f'] == 'f__Enterobacteriaceae', 'species'].tolist())] == 0).sum(axis=1).to_frame('=0').join(\n",
    "(anti.loc[anti.index.difference(specific_names).drop_duplicates(), sorted(metadata.loc[metadata['f'] == 'f__Enterobacteriaceae', 'species'].tolist())] <= 90).sum(axis=1).to_frame('<=90')).join(\n",
    "(anti.loc[anti.index.difference(specific_names).drop_duplicates(), sorted(metadata.loc[metadata['f'] == 'f__Enterobacteriaceae', 'species'].tolist())] > 90).sum(axis=1).to_frame('>90')).sort_values(['<=90', '=0', '>90'], ascending=False)"
   ]
  },
  {
   "cell_type": "code",
   "execution_count": null,
   "metadata": {
    "hidden": true
   },
   "outputs": [],
   "source": [
    "(anti.loc[anti.index.intersection(specific_names).drop_duplicates(), sorted(metadata.loc[metadata['f'] == 'f__Enterobacteriaceae', 'species'].tolist())] == 0).sum(axis=1).to_frame('=0').join(\n",
    "(anti.loc[anti.index.intersection(specific_names).drop_duplicates(), sorted(metadata.loc[metadata['f'] == 'f__Enterobacteriaceae', 'species'].tolist())] <= 90).sum(axis=1).to_frame('<=90')).join(\n",
    "(anti.loc[anti.index.intersection(specific_names).drop_duplicates(), sorted(metadata.loc[metadata['f'] == 'f__Enterobacteriaceae', 'species'].tolist())] > 90).sum(axis=1).to_frame('>90')).sort_values(['<=90', '=0', '>90'], ascending=False)"
   ]
  },
  {
   "cell_type": "code",
   "execution_count": null,
   "metadata": {
    "hidden": true
   },
   "outputs": [],
   "source": [
    "anti.loc['sulfonamide', sorted(metadata.loc[metadata['f'] == 'f__Enterobacteriaceae', 'species'].tolist())]"
   ]
  },
  {
   "cell_type": "code",
   "execution_count": null,
   "metadata": {
    "hidden": true
   },
   "outputs": [],
   "source": [
    "# cephalosporin                          19, non Proteobacteria 10, most Bacteroides, 477-498\n",
    "# macrolide                              17, non Proteobacteria 6, most Enterococcus, 1108-1113\n",
    "# fluoroquinolone                        17, non Proteobacteria 5, most Enterococcus, 1108-1113"
   ]
  },
  {
   "cell_type": "code",
   "execution_count": null,
   "metadata": {
    "hidden": true,
    "scrolled": false
   },
   "outputs": [],
   "source": [
    "flat[flat > 90].reset_index().join(\n",
    "    phyla, on='level_1', how='inner').join(#.replace('Proteobacteria', np.nan).dropna()\n",
    "    metadata.dropna().set_index('species')[['f', 'g', 's']], on='level_1', how='inner')['Antibiotic/Species ID'].value_counts()\n",
    "# .set_index('RESISTANCE').loc[['fluoroquinolone']].sort_values(['p', 'f', 'g', 's'])"
   ]
  },
  {
   "cell_type": "code",
   "execution_count": null,
   "metadata": {
    "hidden": true
   },
   "outputs": [],
   "source": [
    "last = anti.loc[anti.index.intersection(class_names+specific_names)].drop_duplicates().replace(0, np.nan).stack().sort_values()\n",
    "last"
   ]
  },
  {
   "cell_type": "code",
   "execution_count": null,
   "metadata": {
    "hidden": true,
    "scrolled": false
   },
   "outputs": [],
   "source": [
    "last[last > 90].sort_index(level=1)"
   ]
  },
  {
   "cell_type": "code",
   "execution_count": null,
   "metadata": {
    "hidden": true
   },
   "outputs": [],
   "source": [
    "metadata.set_index('species')[['p', 'c', 'o', 'f', 'g', 's']].dropna().loc[last[last > 90].index.get_level_values(1).unique()].sort_index()"
   ]
  },
  {
   "cell_type": "code",
   "execution_count": null,
   "metadata": {
    "hidden": true
   },
   "outputs": [],
   "source": [
    "last[(last > 50) & (last <= 90)].sort_index()"
   ]
  },
  {
   "cell_type": "code",
   "execution_count": null,
   "metadata": {
    "hidden": true
   },
   "outputs": [],
   "source": [
    "metadata.set_index('species')[['p', 'c', 'o', 'f', 'g', 's']].dropna().loc[last[(last > 50) & (last <= 90)].index.get_level_values(1).unique()].sort_index()"
   ]
  },
  {
   "cell_type": "code",
   "execution_count": null,
   "metadata": {
    "hidden": true,
    "scrolled": false
   },
   "outputs": [],
   "source": [
    "genes_type.loc[flat[flat > 90].index.get_level_values(1).unique(), ['n_genomes', 'n_studies']].sort_values('n_studies')"
   ]
  },
  {
   "cell_type": "code",
   "execution_count": null,
   "metadata": {
    "hidden": true
   },
   "outputs": [],
   "source": [
    "# Segal is not hospitalized but can have disease\n",
    "\n",
    "# Alm \"healthy FMT donors recruited in the Boston area\"\n",
    "# Xiao \"fecal samples of healthy individuals\"\n",
    "# Lawley \"Fecal samples were collected from 20 healthy adults\"\n",
    "\n",
    "# Kyrpides \"phenotypically and demographically diverse human subjects\"\n",
    "# Segata \"spanning 46 datasets from multiple populations, body sites, and host ages\""
   ]
  },
  {
   "cell_type": "markdown",
   "metadata": {},
   "source": [
    "# Supplementary"
   ]
  },
  {
   "cell_type": "code",
   "execution_count": null,
   "metadata": {},
   "outputs": [],
   "source": [
    "pvalue_thresholds = [[10.0**-i, f'{10.0**-i:.0e}'] for i in np.arange(500, 3, -1)] + [[1e-3, \"0.001\"], [1e-2, \"0.01\"]]"
   ]
  },
  {
   "cell_type": "markdown",
   "metadata": {
    "heading_collapsed": true
   },
   "source": [
    "## quality"
   ]
  },
  {
   "cell_type": "code",
   "execution_count": null,
   "metadata": {
    "hidden": true
   },
   "outputs": [],
   "source": [
    "(metadata.groupby('species')['type'].apply(lambda s: (s != 'Short-read MAG').sum()) >= 20).sum()"
   ]
  },
  {
   "cell_type": "code",
   "execution_count": null,
   "metadata": {
    "hidden": true
   },
   "outputs": [],
   "source": [
    "params = metadata.groupby('species')[['Completeness', 'Contamination']].median().sort_index()\n",
    "params.columns = ['% Completeness', '% Contamination']"
   ]
  },
  {
   "cell_type": "code",
   "execution_count": null,
   "metadata": {
    "hidden": true
   },
   "outputs": [],
   "source": [
    "results = genes_type[['Fold change', 'Core genes', 'Shell genes', 'Cloud genes']].join(heaps['a']).sort_index()\n",
    "results.columns = ['Genes fold change', '# Core genes', '# Shell genes', '# Cloud genes', 'Strain variability [a]']"
   ]
  },
  {
   "cell_type": "code",
   "execution_count": null,
   "metadata": {
    "hidden": true,
    "scrolled": false
   },
   "outputs": [],
   "source": [
    "uppery = 50\n",
    "data = results.join(params)\n",
    "data['Genes fold change'] = data['Genes fold change'].clip(upper=uppery)\n",
    "\n",
    "grid = sns.pairplot(data=data, x_vars=params.columns, y_vars=results.columns,\n",
    "                    kind='scatter', plot_kws={'color': 'grey', 'alpha': 0.5},\n",
    "                    hue=None, hue_order=None, palette=None)\n",
    "\n",
    "# .set_facecolor('red') # used to understand in which axis i am\n",
    "\n",
    "# x-axis\n",
    "_ = grid.figure.axes[0].set_xlim(70, 100)\n",
    "\n",
    "_ = grid.figure.axes[1].set_xlim(0, 5)\n",
    "_ = grid.figure.axes[1].set_xticks([0, 1, 2, 3, 4, 5])\n",
    "\n",
    "# y-axis\n",
    "_ = grid.figure.axes[0].collections[0].set_color(phyla.sort_index().map(phyla_cmap).tolist())\n",
    "_ = grid.figure.axes[1].collections[0].set_color(phyla.sort_index().map(phyla_cmap).tolist())\n",
    "\n",
    "_ = grid.figure.axes[2].set_yscale('log')\n",
    "_ = grid.figure.axes[4].set_yscale('log')\n",
    "_ = grid.figure.axes[6].set_yscale('log')\n",
    "\n",
    "_ = grid.figure.axes[8].set_ylim(0, 1)\n",
    "_ = grid.figure.axes[8].collections[0].set_color(heaps.sort_index()['colors'].tolist())\n",
    "_ = grid.figure.axes[9].collections[0].set_color(heaps.sort_index()['colors'].tolist())\n",
    "\n",
    "def add_text(x, y, ax=None, **kws):\n",
    "    r, p = pearsonr(x, y)\n",
    "    if p < 0.05:\n",
    "        ax = plt.gca()\n",
    "        ax.annotate(f'EV={r*r*100:.2f}%', xy=(0.1, 0.9), xycoords=ax.transAxes)\n",
    "        \n",
    "_ = grid.map(add_text)\n",
    "\n",
    "_ = grid.figure.axes[1].legend(handles=[Line2D([0], [0], linewidth=0, label=l, color=c, marker='o') for l, c in phyla_cmap.items()], title=r'$\\bfPhylum$', bbox_to_anchor=(1, 1.02))\n",
    "_ = grid.figure.colorbar(heaps_cmap, cax=grid.figure.add_axes([0.99, 0.076, 0.07, 0.11]), **{'orientation': 'vertical', 'label': 'Strain variability [a]', 'ticks': [0.1, 0.3, 0.5, 0.7]})\n",
    "\n",
    "plt.savefig(os.path.join('figs', 'Figure S1'))"
   ]
  },
  {
   "cell_type": "markdown",
   "metadata": {
    "heading_collapsed": true
   },
   "source": [
    "## genes conservation"
   ]
  },
  {
   "cell_type": "code",
   "execution_count": null,
   "metadata": {
    "hidden": true
   },
   "outputs": [],
   "source": [
    "m = metadata.dropna().set_index('species')[['genus', 'family']].join(phyla.to_frame('phylum'))\n",
    "\n",
    "jaccard_full = jaccard_full.join(m, on='Species ID 1').join(m, on='Species ID 2', lsuffix=1, rsuffix=2)\n",
    "jaccard_full['genus'] = jaccard_full['genus1'] == jaccard_full['genus2']\n",
    "jaccard_full['family'] = jaccard_full['family1'] == jaccard_full['family2']\n",
    "jaccard_full['phylum'] = jaccard_full['phylum1'] == jaccard_full['phylum2']\n",
    "jaccard_full.loc[jaccard_full['phylum'], 'phylum'] = jaccard_full.loc[jaccard_full['phylum'], 'phylum1']"
   ]
  },
  {
   "cell_type": "code",
   "execution_count": null,
   "metadata": {
    "hidden": true,
    "scrolled": false
   },
   "outputs": [],
   "source": [
    "_, (ax1, ax2, ax3, ax4) = plt.subplots(ncols=4, sharey=True, gridspec_kw={'width_ratios': [1, 2, 2, 4]})\n",
    "\n",
    "# phylum\n",
    "level = 'Phylum'\n",
    "order = (phyla.value_counts() >= 20).replace(False, np.nan).dropna().index\n",
    "order = jaccard_full[jaccard_full['phylum'].isin(order)].groupby('phylum').apply(lambda p: p['Jaccard index'].median()).sort_values(ascending=False).index\n",
    "data = jaccard_full[jaccard_full['phylum'].isin(order)]\n",
    "ax4 = sns.boxplot(x='phylum', y='Jaccard index', hue='phylum', data=data, \n",
    "                  ax=ax4, showfliers=False, dodge=False, \n",
    "                  order=order, hue_order=phyla_cmap.keys(), palette=phyla_cmap)\n",
    "_ = ax4.legend([],[], frameon=False)\n",
    "_ = ax4.set_xticklabels(order, rotation=-45, ha='left')\n",
    "_ = ax4.set_xlabel('')\n",
    "_ = ax4.set_xticklabels([f'{label.get_text()}\\nn={sum(data[\"phylum\"] == label.get_text()):,}' for label in ax4.get_xticklabels()])\n",
    "_ = ax4.set_ylabel('')\n",
    "_ = ax4.set_title('Phylum')\n",
    "box_pairs = []\n",
    "for i, o1 in enumerate(order):\n",
    "    col = data.loc[data[level.lower()] == o1, 'Jaccard index']\n",
    "    f'{o1} {col.mean():.2f}±{col.std():.2f}'\n",
    "\n",
    "    for o2 in order[i+1:]:\n",
    "        box_pairs.append((o1, o2))\n",
    "_ = add_stat_annotation(ax4, x='phylum', y='Jaccard index', data=data, \n",
    "                        order=order, box_pairs=box_pairs, test='t-test_ind', comparisons_correction='bonferroni', text_format='simple', verbose=0, pvalue_thresholds=pvalue_thresholds)\n",
    "\n",
    "# genus and family\n",
    "for ax, level in zip([ax3, ax2], ['Family', 'Genus']):\n",
    "    order = [f'Same\\n{level.lower()}', f'Different\\n{level.lower()}']\n",
    "    data = jaccard_full.replace(True, f'Same\\n{level.lower()}').replace(False, f'Different\\n{level.lower()}')\n",
    "    ax = sns.boxplot(x=level.lower(), y='Jaccard index', hue=level.lower(), data=data, \n",
    "                      ax=ax, showfliers=False, dodge=False,\n",
    "                      order=order, hue_order=order, palette='Reds_r')\n",
    "    _ = ax.legend([],[], frameon=False)\n",
    "    _ = ax.set_xlabel('')\n",
    "    _ = ax.set_xticklabels([f'{label.get_text()}\\n{\"n=\" if i == 0 else \"   \"}{sum(data[level.lower()] == label.get_text()):,}' for i, label in enumerate(ax.get_xticklabels())])\n",
    "    _ = ax.set_ylabel('')\n",
    "    _ = ax.set_title(level)\n",
    "    _ = add_stat_annotation(ax, x=level.lower(), y='Jaccard index', data=data, \n",
    "                            order=order, box_pairs=[order], test='t-test_ind', comparisons_correction=None, text_format='simple', verbose=0, pvalue_thresholds=pvalue_thresholds)\n",
    "    \n",
    "    col = data.loc[data[level.lower()] == f'Same\\n{level.lower()}', 'Jaccard index']\n",
    "    f'{level} {col.mean():.2f}±{col.std():.2f}'\n",
    "\n",
    "\n",
    "# species\n",
    "level = 'Species'\n",
    "ax1 = sns.boxplot(y=jaccard20.mean(axis=1), \n",
    "                  ax=ax1, showfliers=False, dodge=False,\n",
    "                  palette=['tab:Red'])\n",
    "_ = ax1.legend([],[], frameon=False)\n",
    "_ = ax1.set_xticklabels([f'Pangenome of\\n20 strains\\nn={jaccard20.shape[0]:,}'])\n",
    "_ = ax1.set_xlabel('')\n",
    "_ = ax1.set_ylabel('Core genes Jaccard index')\n",
    "_ = ax1.set_title('Species')\n",
    "\n",
    "col = jaccard20.mean(axis=1)\n",
    "f'{level} {col.mean():.2f}±{col.std():.2f}'\n",
    "\n",
    "_ = plt.yticks([0.0, 0.2, 0.4, 0.6, 0.8, 1.0])\n",
    "\n",
    "plt.savefig(os.path.join('figs', 'Figure S2'))"
   ]
  },
  {
   "cell_type": "code",
   "execution_count": null,
   "metadata": {
    "hidden": true
   },
   "outputs": [],
   "source": [
    "for col in jaccard20.columns:\n",
    "    s, p = ttest_ind(jaccard20[col], jaccard_full.loc[jaccard_full['genus'], 'Jaccard index'])\n",
    "    col, s, p"
   ]
  },
  {
   "cell_type": "code",
   "execution_count": null,
   "metadata": {
    "hidden": true
   },
   "outputs": [],
   "source": [
    "i = shell_r.mean().sort_values().index[5]\n",
    "f'{shell_r.mean()[i]:.2f}±{shell_r.std()[i]:.2f} {shell_p.loc[:, i].quantile(q=0.5, interpolation=\"higher\"):.2e}'"
   ]
  },
  {
   "cell_type": "code",
   "execution_count": null,
   "metadata": {
    "hidden": true
   },
   "outputs": [],
   "source": [
    "shell_r[shell_p > 0.05/len(all_species)] = np.nan"
   ]
  },
  {
   "cell_type": "code",
   "execution_count": null,
   "metadata": {
    "hidden": true
   },
   "outputs": [],
   "source": [
    "i = shell_r.mean().sort_values().index[5]\n",
    "f'{shell_r.mean()[i]:.2f}±{shell_r.std()[i]:.2f} {shell_p.loc[:, i].quantile(q=0.5, interpolation=\"higher\"):.2e}'"
   ]
  },
  {
   "cell_type": "markdown",
   "metadata": {
    "heading_collapsed": true
   },
   "source": [
    "## functional categories"
   ]
  },
  {
   "cell_type": "code",
   "execution_count": null,
   "metadata": {
    "hidden": true,
    "scrolled": true
   },
   "outputs": [],
   "source": [
    "# remember that fastas, eggnog and antibiotic files do not include species 449, 477 is a cloud gene outlier\n",
    "cats = pan_annots.loc[~pan_annots.index.isin(problematic), 'best_og_cat'].value_counts()\n",
    "# divides annotations with multiple categories to their individual category\n",
    "for cat in cats.index:\n",
    "    if (len(cat) > 1) & (cat != 'Unknown'):\n",
    "        for c in cat:\n",
    "            cats.loc[c] = cats.loc[c] + cats.loc[cat]/len(cat)\n",
    "cats = cats.loc[(cats.index.str.len() == 1) | (cats.index == 'Unknown')]\n",
    "# taking only categories that are over 1%\n",
    "cats = cats/cats.sum()*100\n",
    "cats = cats[cats >= 1].index.tolist()\n",
    "len(cats)\n",
    "\n",
    "index = []\n",
    "for s in all_species:\n",
    "    for c in cats:\n",
    "        index.append((s, c))\n",
    "\n",
    "data = pd.DataFrame(index=pd.MultiIndex.from_tuples(index, names=('SGB', 'best_og_cat')), columns=['Core genes [90-100%]', 'Shell genes [10-90%]', 'Cloud genes [0-10%]'])\n",
    "for gene_type in data.columns:\n",
    "    vc = pan_annots.loc[~pan_annots.index.isin(problematic) & (pan_annots['Gene type'] == gene_type), 'best_og_cat'].reset_index().value_counts()\n",
    "    # divides annotations with multiple categories to their individual category\n",
    "    for s in all_species:\n",
    "        if s in problematic:\n",
    "            continue\n",
    "        for cat in vc.loc[s].index:\n",
    "            if (len(cat) > 1) & (cat != 'Unknown'):\n",
    "                for c in cat:\n",
    "                    vc.loc[(s, c)] = (vc.loc[(s, c)] if c in vc.loc[s].index else 0) + vc.loc[(s, cat)]/len(cat)\n",
    "    # filter to the 1% categories\n",
    "    vc = vc[vc.index.get_level_values('best_og_cat').isin(cats)]\n",
    "    vc = vc.unstack('SGB')\n",
    "    vc = pd.concat([vc[vc.index != 'Unknown']/vc[vc.index != 'Unknown'].sum()*100,  # categories are divided by their sum without unknowns\n",
    "                    vc.loc[['Unknown']]/vc.sum()*100])  # unknowns are divided by everything, known and unknown\n",
    "    vc = vc.T.stack()\n",
    "    data.loc[vc.index, gene_type] = vc.values\n",
    "    \n",
    "data = data.dropna(how='all').fillna(0)\n",
    "data = data.stack().reset_index()\n",
    "data.columns = ['SGB', 'best_og_cat', 'Gene frequency', 'Percentage']\n",
    "data['Gene frequency'] = data['Gene frequency'].str.split('[').str[0].str[:-1]"
   ]
  },
  {
   "cell_type": "code",
   "execution_count": null,
   "metadata": {
    "hidden": true,
    "scrolled": false
   },
   "outputs": [],
   "source": [
    "_ , (ax1, ax2) = plt.subplots(nrows=1, ncols=2, figsize=(20, 8), gridspec_kw={'width_ratios': [1, len(cats)-1], 'wspace': 0.1})\n",
    "\n",
    "hue_order = list(genes_type_cmap.keys())\n",
    "hatches = ['///', '//', '/']\n",
    "\n",
    "# Unknown\n",
    "_ = sns.barplot(x='best_og_cat', y='Percentage', hue='Gene frequency', data=data[data['best_og_cat'] == 'Unknown'], hue_order=hue_order, ax=ax1, alpha=0.5, palette=genes_type_cmap, errorbar='sd')\n",
    "_ = ax1.set_xlabel('')\n",
    "_ = ax1.set_ylim(0, 60)\n",
    "\n",
    "for i, bar in enumerate(ax1.patches):\n",
    "    bar.set_hatch(hatches[i % len(hue_order)])\n",
    "\n",
    "box_pairs = [(('Unknown', hue_order[g%3]), ('Unknown', hue_order[(g+1)%3])) for g in [1, 2, 3]]\n",
    "_ = add_stat_annotation(ax1, x='best_og_cat', y='Percentage', hue='Gene frequency', data=data[data['best_og_cat'] == 'Unknown'], hue_order=hue_order,\n",
    "                        box_pairs=box_pairs, test='t-test_paired', comparisons_correction='bonferroni', text_format='simple', loc='outside', verbose=0, pvalue_thresholds=pvalue_thresholds)\n",
    "\n",
    "_ = ax1.legend([],[], frameon=False)\n",
    "\n",
    "for g in hue_order:\n",
    "    col = data.loc[(data['best_og_cat'] == 'Unknown') & (data['Gene frequency'] == g), 'Percentage']\n",
    "    f'{g} {col.mean():.2f}±{col.std():.2f}'\n",
    "\n",
    "# Category\n",
    "order = data[data['Gene frequency'] == 'Core genes'].groupby('best_og_cat')['Percentage'].mean().sort_values(ascending=False).drop('Unknown').index\n",
    "\n",
    "_ = sns.barplot(x='best_og_cat', y='Percentage', hue='Gene frequency', data=data, order=order, hue_order=hue_order, ax=ax2, alpha=0.5, palette=genes_type_cmap, errorbar='sd')\n",
    "_ = ax2.set_xlabel('Functional category')\n",
    "_ = ax2.set_ylim(0, 30)\n",
    "\n",
    "for i, bar in enumerate(ax2.patches):\n",
    "    bar.set_hatch(hatches[int(i/len(order))])\n",
    "\n",
    "box_pairs = [((c, hue_order[g%3]), (c, hue_order[(g+1)%3])) for g in [1, 2, 3] for c in cats[1:]]\n",
    "_ = add_stat_annotation(ax2, x='best_og_cat', y='Percentage', hue='Gene frequency', data=data, order=order,\n",
    "                        box_pairs=box_pairs, test='t-test_paired', comparisons_correction='bonferroni', text_format='simple', loc='outside', verbose=0, pvalue_thresholds=pvalue_thresholds)\n",
    "\n",
    "handles, labels = ax2.get_legend_handles_labels()\n",
    "_ = ax2.legend(handles, labels, title=r'$\\bfGene\\;frequency$', fancybox=True)\n",
    "\n",
    "plt.savefig(os.path.join('figs', 'Figure S3'))"
   ]
  },
  {
   "cell_type": "code",
   "execution_count": null,
   "metadata": {
    "hidden": true
   },
   "outputs": [],
   "source": [
    "data[data['Gene frequency'] == 'Core genes'].groupby('best_og_cat')['Percentage'].mean().sort_values(ascending=False)"
   ]
  },
  {
   "cell_type": "code",
   "execution_count": null,
   "metadata": {
    "hidden": true,
    "scrolled": true
   },
   "outputs": [],
   "source": [
    "data[data['Gene frequency'] == 'Shell genes'].groupby('best_og_cat')['Percentage'].mean().sort_values(ascending=False)"
   ]
  },
  {
   "cell_type": "code",
   "execution_count": null,
   "metadata": {
    "hidden": true,
    "scrolled": false
   },
   "outputs": [],
   "source": [
    "data[data['Gene frequency'] == 'Cloud genes'].groupby('best_og_cat')['Percentage'].mean().sort_values(ascending=False)"
   ]
  },
  {
   "cell_type": "code",
   "execution_count": null,
   "metadata": {
    "hidden": true
   },
   "outputs": [],
   "source": [
    "# # for reviewer\n",
    "# pan_annots = pd.read_csv('Supplementary file 5 - genes annotations.csv', index_col=0)\n",
    "# pan_annots = pan_annots.loc[~pan_annots.index.isin(problematic)]\n",
    "# pan_annots = pan_annots.replace('-', np.nan).replace('S', np.nan).replace('ko00000', np.nan)  # S - function unknown\n",
    "\n",
    "# cols = ['eggNOG OGs', 'narr_og_name', 'narr_og_cat', 'narr_og_desc', 'best_og_name', 'best_og_cat', 'best_og_desc', \n",
    "#         'KEGG_ko', 'KEGG_Pathway', 'KEGG_Module', 'KEGG_Reaction', 'KEGG_rclass', 'KEGG_TC', \n",
    "#         'PFAMs',\n",
    "#         'BRITE', 'EC', 'CAZy', 'GOs', 'BiGG_Reaction']\n",
    "                                                                                          \n",
    "# for col in cols:\n",
    "#     vc = pan_annots[col].value_counts().index\n",
    "#     print(f'{col}\\t{(~pan_annots[col].isna()).mean()*100:.2f}\\t{pan_annots[col].unique().shape[0]:,}\\t{vc[0]}')"
   ]
  },
  {
   "cell_type": "markdown",
   "metadata": {
    "heading_collapsed": true
   },
   "source": [
    "## strain variability"
   ]
  },
  {
   "cell_type": "code",
   "execution_count": null,
   "metadata": {
    "hidden": true,
    "scrolled": false
   },
   "outputs": [],
   "source": [
    "data = heaps.join(phyla)\n",
    "order = data.groupby('p')['a'].median().sort_values(ascending=False).index\n",
    "\n",
    "ax = sns.boxplot(x='p', y='a', hue='p', data=data, \n",
    "                 order=order, hue_order=phyla_cmap.keys(), palette=phyla_cmap, showfliers=False, dodge=False)\n",
    "\n",
    "handles, labels = ax.get_legend_handles_labels()\n",
    "_ = ax.legend(handles, labels, title=r'$\\bfPhylum$', bbox_to_anchor=(1, 1.02))\n",
    "\n",
    "box_pairs = []\n",
    "big_phyla = (phyla.value_counts() >= 20).replace(False, np.nan).dropna().index\n",
    "for i, p1 in enumerate(big_phyla):\n",
    "    col = data.loc[data['p'] == p1, 'a']\n",
    "    f'{p1} {col.mean():.2f}±{col.std():.2f}'\n",
    "\n",
    "    for p2 in big_phyla[i+1:]:\n",
    "        box_pairs.append((p1, p2))\n",
    "_ = add_stat_annotation(ax, x='p', y='a', data=data, \n",
    "                        order=order, box_pairs=box_pairs, test='t-test_ind', comparisons_correction='bonferroni', text_format='simple', verbose=0, line_offset=0.01, pvalue_thresholds=pvalue_thresholds)\n",
    "\n",
    "_ = ax.set_yticks(np.arange(0, 1.2, 0.2))\n",
    "_ = ax.set_xticklabels([f'{label.get_text()}\\nn={sum(phyla == label.get_text()):,}' for label in ax.get_xticklabels()], rotation=-45, ha='left')\n",
    "\n",
    "_ = ax.set_xlabel('')\n",
    "_ = ax.set_ylabel('Strain variability [a]')\n",
    "\n",
    "plt.savefig(os.path.join('figs', 'Figure S4'))"
   ]
  },
  {
   "cell_type": "markdown",
   "metadata": {},
   "source": [
    "# Methods"
   ]
  },
  {
   "cell_type": "code",
   "execution_count": null,
   "metadata": {},
   "outputs": [],
   "source": [
    "# this is the code used to implement the methods, it can not run by useres"
   ]
  },
  {
   "cell_type": "code",
   "execution_count": null,
   "metadata": {},
   "outputs": [],
   "source": [
    "# function to read the roary gene_presence_absence.csv files\n",
    "def read_gene_presence_absence(species):\n",
    "    file = os.path.join('run', f'Rep_{species}', 'roary_3.13.0', 'gene_presence_absence.csv')\n",
    "\n",
    "    if species == 449:  # this species is very heavy and thus loaded in parts\n",
    "        all_chunks = []\n",
    "        for chunk in pd.read_csv(file, dtype=str, index_col=0, chunksize=5000):#10000\n",
    "            all_chunks.append((~chunk.iloc[:, 13:].isna()))\n",
    "        del chunk\n",
    "        genes = pd.concat(all_chunks)\n",
    "        del all_chunks\n",
    "    else:\n",
    "        genes = (~pd.read_csv(file, dtype=str, index_col=0).iloc[:, 13:].isna())\n",
    "        \n",
    "    return genes"
   ]
  },
  {
   "cell_type": "markdown",
   "metadata": {},
   "source": [
    "## quality"
   ]
  },
  {
   "cell_type": "code",
   "execution_count": null,
   "metadata": {},
   "outputs": [],
   "source": [
    "# # quality = pd.read_csv(os.path.join('run', 'quality2', 'quality_report.tsv'), sep='\\t')\n",
    "# quality = pd.read_csv(os.path.join('run', 'quality2', 'quality_report_excluded_files.tsv'), sep='\\t')\n",
    "# # the file have duplicate headers\n",
    "# quality = quality[quality['Name'] != 'Name'].set_index('Name')\n",
    "# quality['Completeness'] = quality['Completeness_General']\n",
    "# quality.loc[quality['Completeness_Model_Used'] == 'Neural Network (Specific Model)', 'Completeness'] = quality['Completeness_Specific']\n",
    "# quality = quality.rename(columns={'Contig_N50': 'N50 (contigs)'})"
   ]
  },
  {
   "cell_type": "code",
   "execution_count": null,
   "metadata": {},
   "outputs": [],
   "source": [
    "# quality.shape"
   ]
  },
  {
   "cell_type": "code",
   "execution_count": null,
   "metadata": {},
   "outputs": [],
   "source": [
    "# f\"70% {((quality['Completeness'].astype(float) >= 70) & (quality['Contamination'].astype(float) <= 5)).sum()}\"#\".mean()*100:.2f}\"\n",
    "# f\"50% {((quality['Completeness'].astype(float) >= 50) & (quality['Contamination'].astype(float) <= 10)).sum()}\"#.mean()*100:.2f}\""
   ]
  },
  {
   "cell_type": "code",
   "execution_count": null,
   "metadata": {},
   "outputs": [],
   "source": []
  },
  {
   "cell_type": "code",
   "execution_count": null,
   "metadata": {},
   "outputs": [],
   "source": []
  },
  {
   "cell_type": "code",
   "execution_count": null,
   "metadata": {},
   "outputs": [],
   "source": [
    "# assemblies = pd.read_csv('/net/mraid20/export/jafar/Microbiome/Analyses/Unicorn/URS/URS_Build/full_metadata_filtered_w_clusts_reps.csv', index_col=0)\n",
    "# assemblies.index = assemblies['AssemblyName'].str.replace('.fa', '').str.replace('.fna', '').values"
   ]
  },
  {
   "cell_type": "code",
   "execution_count": null,
   "metadata": {},
   "outputs": [],
   "source": [
    "# quality = assemblies.join(quality, lsuffix=' checkM1', rsuffix=' checkM2')\n",
    "# # quality = quality[quality['cluster_s'].isin(all_species)]"
   ]
  },
  {
   "cell_type": "code",
   "execution_count": null,
   "metadata": {},
   "outputs": [],
   "source": [
    "# quality = quality[['Completeness checkM1', 'Contamination checkM1', 'N50 (contigs) checkM1', 'Score_1_-5_15',\n",
    "#                    'cluster_s', 'is_rep',\n",
    "#                    'Completeness checkM2', 'Contamination checkM2', 'N50 (contigs) checkM2']].astype(float)"
   ]
  },
  {
   "cell_type": "code",
   "execution_count": null,
   "metadata": {},
   "outputs": [],
   "source": [
    "# f\"70% {((quality['Completeness checkM2'] < 70) | (quality['Contamination checkM2'] > 5)).mean()*100:.2f}\"\n",
    "# f\"50% {((quality['Completeness checkM2'] < 50) | (quality['Contamination checkM2'] > 10)).mean()*100:.2f}\"\n",
    " \n",
    "# for q in ['Completeness', 'Contamination']:#, 'N50 (contigs)']:\n",
    "#     q, spearmanr(quality[f'{q} checkM1'], quality[f'{q} checkM2'])\n",
    "#     if q == 'Completeness':\n",
    "#         f\"70% {(quality['Completeness checkM2'] < 70).mean()*100:.2f}\"\n",
    "#         f\"50% {(quality['Completeness checkM2'] < 50).mean()*100:.2f}\"\n",
    "#     if q == 'Contamination':\n",
    "#         f\"5% {(quality['Contamination checkM2'] > 5).mean()*100:.2f}\"\n",
    "#         f\"10% {(quality['Contamination checkM2'] > 10).mean()*100:.2f}\"\n",
    "#     _ = plt.figure()\n",
    "#     _ = sns.scatterplot(x=f'{q} checkM1', y=f'{q} checkM2', data=quality, alpha=0.5)"
   ]
  },
  {
   "cell_type": "code",
   "execution_count": null,
   "metadata": {},
   "outputs": [],
   "source": [
    "# gunc = pd.read_csv('/net/mraid20/ifs/wisdom/segal_lab/jafar/Microbiome/Analyses/Unicorn/URS/URS_Build/Rep_all/gunc/GUNC_all.csv')\n",
    "# gunc['pass.GUNC'].mean()*100\n",
    "\n",
    "# gunc.columns\n",
    "# # plt.figure()\n",
    "# # (gunc['contamination_portion']*100).hist()\n",
    "# # plt.figure()\n",
    "# # (gunc['clade_separation_score']*100).hist()\n",
    "\n",
    "# # gunc = gunc.set_index('genome')[['genes_retained_index', 'contamination_portion']]*100\n",
    "# # gunc.columns = ['Completeness GUNC', 'Contamination GUNC']\n",
    "# # gunc.index = gunc.index.str.split('_').str[-1].astype(float)\n",
    "# # gunc = quality[quality['is_rep'] == 1].set_index('cluster_s').join(gunc)"
   ]
  },
  {
   "cell_type": "code",
   "execution_count": null,
   "metadata": {
    "scrolled": false
   },
   "outputs": [],
   "source": [
    "# for q in ['Completeness checkM1', 'Completeness checkM2', 'Contamination checkM1', 'Contamination checkM2']:\n",
    "#     q, spearmanr(gunc[f'{q.split(\" \")[0]} GUNC'], gunc[q])\n",
    "#     if q == 'Completeness checkM1':\n",
    "#         f\"70% {(gunc['Completeness GUNC'] < 70).mean()*100:.2f}\"\n",
    "#         f\"50% {(gunc['Completeness GUNC'] < 50).mean()*100:.2f}\"\n",
    "#     if q == 'Contamination checkM1':\n",
    "#         f\"5% {(gunc['Contamination GUNC'] > 5).mean()*100:.2f}\"\n",
    "#         f\"10% {(gunc['Contamination GUNC'] > 10).mean()*100:.2f}\"\n",
    "#     _ = plt.figure()\n",
    "#     _ = sns.scatterplot(x=f'{q.split(\" \")[0]} GUNC', y=q, data=gunc, alpha=0.5)"
   ]
  },
  {
   "cell_type": "code",
   "execution_count": null,
   "metadata": {},
   "outputs": [],
   "source": []
  },
  {
   "cell_type": "code",
   "execution_count": null,
   "metadata": {},
   "outputs": [],
   "source": []
  },
  {
   "cell_type": "markdown",
   "metadata": {
    "heading_collapsed": true
   },
   "source": [
    "## genes"
   ]
  },
  {
   "cell_type": "code",
   "execution_count": null,
   "metadata": {
    "hidden": true,
    "scrolled": true
   },
   "outputs": [],
   "source": [
    "# # calculate genes_per_percentile of genomes\n",
    "# # calculate genes_per_genomes as the average of 10 random orders of genomes\n",
    "# # create the prokka annotation file with the %genomes the genes are in\n",
    "\n",
    "# indices = np.arange(1, 11)\n",
    "# genes_per_genomes = {i: pd.DataFrame(index=np.arange(metadata['#assemblies'].max()).astype(int), columns=all_species, dtype=int) for i in indices}\n",
    "\n",
    "# prec = {}\n",
    "# genes_per_percentile = pd.DataFrame(index=pd.cut(pd.DataFrame(np.arange(1, 101))[0], bins=np.arange(0, 105, 5)).drop_duplicates().values, dtype=int)\n",
    "\n",
    "# for species in all_species:\n",
    "#     genes = read_gene_presence_absence(species)\n",
    "    \n",
    "#     for i in indices:\n",
    "#         genes = genes.sample(frac=1, random_state=i, axis=1)\n",
    "#         genes_per_genomes[i].loc[np.arange(genes.shape[1]), species] = (np.cumsum(genes, axis=1) > 0).sum().values\n",
    "    \n",
    "#     genes = genes.sum(axis=1)/genes.shape[1]*100  # taking the last order, order does not matter when you sum overall\n",
    "#     prec[species] = genes.copy()\n",
    "#     genes = pd.cut(genes, bins=np.arange(0, 105, 5)).value_counts().astype(int)\n",
    "#     genes_per_percentile.loc[genes.index, species] = genes.values\n",
    "    \n",
    "# genes_per_percentile.to_pickle(os.path.join('data_frames', f'genes_per_percentile.df'))\n",
    "\n",
    "# for i in indices:\n",
    "#     genes_per_genomes[i].to_pickle(os.path.join('data_frames', f'genes_per_genomes_random_order{i}.df'))\n",
    "\n",
    "# new = None\n",
    "# for df in genes_per_genomes.values():\n",
    "#     new = new + df if new is not None else df\n",
    "# genes_per_genomes = new/len(indices)\n",
    "# genes_per_genomes.to_pickle(os.path.join('data_frames', f'genes_per_genomes_random_order.df'))\n",
    "\n",
    "# all_prec = []\n",
    "# for species, v in prec.items():\n",
    "#     all_prec.append(v.to_frame('%genomes').assign(SGB=species))\n",
    "# all_prec = pd.concat(all_prec).reset_index().set_index(['SGB', 'Gene'])\n",
    "# all_prec.reset_index().to_csv(os.path.join('run', 'Segal_annots_all_assemblies_prokka_percentage.csv'))"
   ]
  },
  {
   "cell_type": "markdown",
   "metadata": {
    "heading_collapsed": true
   },
   "source": [
    "## core, shell, cloud"
   ]
  },
  {
   "cell_type": "code",
   "execution_count": null,
   "metadata": {
    "hidden": true
   },
   "outputs": [],
   "source": [
    "# # label the genes_per_percentile as core, shell and cloud genes\n",
    "# genes_type = genes_per_percentile.sort_index()\n",
    "# genes_type = genes_type.iloc[-2:].sum().to_frame('Core genes').join(\n",
    "#              genes_type.iloc[2:-2].sum().to_frame('Shell genes')).join(\n",
    "#              genes_type.iloc[:2].sum().to_frame('Cloud genes')).join(\n",
    "#              genes_type.sum().to_frame('All genes'))\n",
    "# genes_type = genes_type.join(metadata.set_index('species')['#assemblies'].dropna().astype(int).to_frame('n_genomes'))\n",
    "\n",
    "# # add the best genome information\n",
    "# genes_type = genes_type.join(genome_annots.groupby('Rep').apply(len).to_frame('Genes in best genome'))\n",
    "# genes_type['Fold change'] = genes_type['All genes']/genes_type['Genes in best genome']\n",
    "\n",
    "# # compare the pangenome of 20 individual genomes to reduce bias\n",
    "# genes_type['Genes in 20'] = genes_per_genomes.iloc[19].loc[genes_type.index]\n",
    "# genes_type['Fold change 20'] = genes_type['Genes in 20']/genes_type['Genes in best genome']\n",
    "\n",
    "# genes_type.to_pickle(os.path.join('data_frames', f'genes_type.df'))"
   ]
  },
  {
   "cell_type": "code",
   "execution_count": null,
   "metadata": {
    "hidden": true
   },
   "outputs": [],
   "source": [
    "# # create the prokka annotation file with the %genomes the genes are in OUT OF 20 GENOMES\n",
    "\n",
    "# indices = np.arange(1, 11)\n",
    "\n",
    "# for i in indices:\n",
    "\n",
    "#     prec = {}\n",
    "\n",
    "#     for species in all_species:\n",
    "#         genes = read_gene_presence_absence(species)\n",
    "#         genes = genes.sample(frac=1, random_state=i, axis=1)\n",
    "#         genes = genes.iloc[:, :20]  # OUT OF 20 GENOMES\n",
    "#         genes = genes.sum(axis=1)/genes.shape[1]*100\n",
    "#         prec[species] = genes.copy()\n",
    "\n",
    "#     all_prec = []\n",
    "#     for species, v in prec.items():\n",
    "#         all_prec.append(v.to_frame('%genomes').assign(SGB=species))\n",
    "#     all_prec = pd.concat(all_prec).reset_index().set_index(['SGB', 'Gene'])\n",
    "#     all_prec.reset_index().to_csv(os.path.join('run', f'Segal_annots_20_assemblies_random_order_{i}_prokka_percentage.csv'))"
   ]
  },
  {
   "cell_type": "code",
   "execution_count": null,
   "metadata": {
    "hidden": true,
    "scrolled": true
   },
   "outputs": [],
   "source": [
    "# indices = np.arange(1, 11)\n",
    "\n",
    "# jaccard = pd.DataFrame(index=all_species, columns=indices)\n",
    "\n",
    "# full = get_sub_annots(pan_annots).set_index('Gene', append=True).assign(full=True)[['full']]\n",
    "\n",
    "# for i in indices:\n",
    "#     df = pd.read_csv(os.path.join('run', f'Segal_annots_20_assemblies_random_order_{i}_prokka_percentage.csv'), index_col=0)\n",
    "#     df = get_sub_annots(df).assign(twenty=True).set_index('Gene', append=True)[['twenty']]\n",
    "#     df = df.join(full, how='outer').fillna(False)\n",
    "#     df = df.groupby('SGB').apply(lambda s: s.all(axis=1).mean())\n",
    "#     jaccard.loc[all_species, i] = df.loc[all_species]\n",
    "    \n",
    "# jaccard.to_pickle(os.path.join('data_frames', f'jaccard20.df'))"
   ]
  },
  {
   "cell_type": "code",
   "execution_count": null,
   "metadata": {
    "hidden": true,
    "scrolled": true
   },
   "outputs": [],
   "source": [
    "# jaccard_full = pd.DataFrame(index=all_species, columns=all_species)\n",
    "\n",
    "# full = get_sub_annots(pan_annots).set_index('Gene', append=True).assign(full=True)[['full']]\n",
    "\n",
    "# for i, s1 in enumerate(all_species):\n",
    "#     for s2 in all_species[i+1:]:\n",
    "#         jaccard_full.loc[s1, s2] = full.loc[s1].join(full.loc[s2], how='outer', rsuffix='2').fillna(False).all(axis=1).mean()\n",
    "        \n",
    "# jaccard_full.stack().to_pickle(os.path.join('data_frames', f'jaccard_full.df'))"
   ]
  },
  {
   "cell_type": "code",
   "execution_count": null,
   "metadata": {
    "hidden": true
   },
   "outputs": [],
   "source": [
    "# indices = np.arange(1, 11)\n",
    "\n",
    "# shell_r = pd.DataFrame(index=all_species, columns=indices)\n",
    "# shell_p = pd.DataFrame(index=all_species, columns=indices)\n",
    "\n",
    "# full = get_sub_annots(pan_annots, 10, 90).set_index('Gene', append=True).assign(full=True)[['full']]\n",
    "\n",
    "# for i in indices:\n",
    "#     df = pd.read_csv(os.path.join('run', f'Segal_annots_20_assemblies_random_order_{i}_prokka_percentage.csv'), index_col=0)\n",
    "#     df = get_sub_annots(df, 10, 90).assign(twenty=True).set_index('Gene', append=True)[['twenty']]\n",
    "#     df = df.join(full, how='outer').fillna(0)\n",
    "#     df = df.groupby('SGB').apply(lambda s: spearmanr(s['full'], s['twenty']))\n",
    "#     shell_r.loc[all_species, i] = df.loc[all_species].str[0]\n",
    "#     shell_p.loc[all_species, i] = df.loc[all_species].str[1]\n",
    "    \n",
    "# shell_r.to_pickle(os.path.join('data_frames', f'shell_r20.df'))\n",
    "# shell_p.to_pickle(os.path.join('data_frames', f'shell_p20.df'))"
   ]
  },
  {
   "cell_type": "code",
   "execution_count": null,
   "metadata": {
    "hidden": true
   },
   "outputs": [],
   "source": [
    "# genes_per_per = pd.read_pickle(os.path.join('data_frames', f'genes_per_percentile.df'))"
   ]
  },
  {
   "cell_type": "code",
   "execution_count": null,
   "metadata": {
    "hidden": true
   },
   "outputs": [],
   "source": [
    "# data = genes_per_per.iloc[-3:].stack().reset_index()\n",
    "# data.columns = ['% Strains', 'Species', 'Number of genes']\n",
    "# data['% Strains'] = data['% Strains'].astype(str)\n",
    "# data['Number of genes'] = data['Number of genes'].clip(upper=1500)\n",
    "# _ = sns.histplot(x='Number of genes', hue='% Strains', hue_order=data['% Strains'].unique(), data=data, palette='Reds', element='step', binwidth=100)\n",
    "\n",
    "# plt.savefig(os.path.join('figs', '4reviewer - core threshold'))"
   ]
  },
  {
   "cell_type": "markdown",
   "metadata": {
    "heading_collapsed": true
   },
   "source": [
    "## strain variability"
   ]
  },
  {
   "cell_type": "code",
   "execution_count": null,
   "metadata": {
    "hidden": true
   },
   "outputs": [],
   "source": [
    "# data = genes_per_genomes.stack().reset_index()#.iloc[:19]\n",
    "# data.columns = ['n_genomes', 'species', 'n_genes']\n",
    "# data['n_genomes'] = data['n_genomes'] + 1"
   ]
  },
  {
   "cell_type": "code",
   "execution_count": null,
   "metadata": {
    "hidden": true
   },
   "outputs": [],
   "source": [
    "# def heap_function(n, k, a):\n",
    "#     return k * n ** a\n",
    "\n",
    "# heaps = pd.DataFrame(index=data['species'].unique(), columns=['k', 'a', 'k_std_err', 'a_std_err'])\n",
    "\n",
    "# for species in data['species'].unique():\n",
    "#     genomes = data.loc[data['species'] == species, 'n_genomes']\n",
    "#     genes = data.loc[data['species'] == species, 'n_genes']\n",
    "\n",
    "#     params, covariance = curve_fit(heap_function, genomes, genes)\n",
    "\n",
    "#     heaps.loc[species, ['k', 'a']] = params\n",
    "#     heaps.loc[species, ['k_std_err', 'a_std_err']] = np.sqrt(np.diag(covariance))\n",
    "    \n",
    "# heaps = heaps.astype(float)\n",
    "\n",
    "# heaps.to_pickle(os.path.join('data_frames', f'heaps.df'))#20"
   ]
  },
  {
   "cell_type": "code",
   "execution_count": null,
   "metadata": {
    "hidden": true
   },
   "outputs": [],
   "source": [
    "# heaps_genes = pd.DataFrame(columns=['s', 'p'])\n",
    "# for gene in core_annots['Gene'].unique():\n",
    "#     have_gene = core_annots[core_annots['Gene'] == gene].index.to_list()\n",
    "#     miss_gene = list(set(all_species) - set(have_gene))\n",
    "#     if (len(have_gene) >= 30) & (len(miss_gene) >= 30):\n",
    "#         heaps_genes.loc[gene] = ttest_ind(heaps.loc[have_gene, 'a'], heaps.loc[miss_gene, 'a'])\n",
    "# heaps_genes['p_bonferroni'] = (heaps_genes['p']*heaps_genes.shape[0]).clip(upper=1)\n",
    "# heaps_genes.to_csv(os.path.join('data_frames', 'heaps_genes.csv'))"
   ]
  },
  {
   "cell_type": "markdown",
   "metadata": {
    "heading_collapsed": true
   },
   "source": [
    "## antibiotic resistances"
   ]
  },
  {
   "cell_type": "code",
   "execution_count": null,
   "metadata": {
    "hidden": true
   },
   "outputs": [],
   "source": [
    "# # calculate the %strains with antibiotic resistence per species\n",
    "# anti = pan_annots.reset_index()[['SGB', 'Gene', 'GENE', 'PRODUCT', 'RESISTANCE']].dropna()\n",
    "\n",
    "# # multiply rows with several resistances\n",
    "# multiple = []\n",
    "# for i, row in anti[anti['RESISTANCE'].str.contains(';')].iterrows():\n",
    "#     for res in row['RESISTANCE'].split(';'):\n",
    "#         new = row.copy()\n",
    "#         new['RESISTANCE'] = res\n",
    "#         multiple.append(new)\n",
    "# multiple = pd.concat(multiple, axis=1).T\n",
    "\n",
    "# names = ['polymyxin|colistin', 'aztreonam', 'tigecycline', 'fosfomycin', 'daptomycin', 'linezolid', 'vancomycin']\n",
    "# # 'carbapenem|meropenem' and 'cephalosporin' are excluded because they are antibiotic classes\n",
    "# # some cephalosporin, especially 4th and 5th generation should be taken, however the annotations are not specific enough to distinguish\n",
    "# last_resort = []\n",
    "# for name in names:\n",
    "#     for i, row in anti[anti['GENE'].str.lower().str.contains(name) | anti['PRODUCT'].str.lower().str.contains(name)].iterrows():\n",
    "#         new = row.copy()\n",
    "#         new['RESISTANCE'] = name\n",
    "#         last_resort.append(new)\n",
    "# last_resort = pd.concat(last_resort, axis=1).T\n",
    "\n",
    "# anti = pd.concat([anti[~anti['RESISTANCE'].str.contains(';')], multiple, last_resort])\n",
    "# anti = anti[['SGB', 'Gene', 'RESISTANCE']]\n",
    "\n",
    "# def get_prec(s):\n",
    "#     df = read_gene_presence_absence(s.name)\n",
    "#     return s.groupby('RESISTANCE').apply(lambda r: df.loc[r['Gene']].any().mean()*100)\n",
    "\n",
    "# anti = anti.groupby('SGB').apply(get_prec).unstack('RESISTANCE').fillna(0)\n",
    "# anti = pd.concat([anti, pd.DataFrame(data=0, index=list(set(all_species) - set(anti.index)), columns=anti.columns)])\n",
    "# anti = anti.sort_index().T.sort_index()\n",
    "\n",
    "# anti.to_pickle(os.path.join('data_frames', 'antibiotics.df'))"
   ]
  },
  {
   "cell_type": "markdown",
   "metadata": {},
   "source": [
    "# genome set"
   ]
  },
  {
   "cell_type": "code",
   "execution_count": null,
   "metadata": {},
   "outputs": [],
   "source": [
    "# base_path = 'data_frames_i90'\n",
    "# comp_path = 'data_frames_i95'\n",
    "# # comp_path = 'data_frames_not_short'"
   ]
  },
  {
   "cell_type": "code",
   "execution_count": null,
   "metadata": {},
   "outputs": [],
   "source": [
    "# base = pd.read_pickle(os.path.join(base_path, 'genes_type.df')).join(pd.read_pickle(os.path.join(base_path, 'heaps.df')))\n",
    "# comp = pd.read_pickle(os.path.join(comp_path, 'genes_type.df')).join(pd.read_pickle(os.path.join(comp_path, 'heaps.df')))"
   ]
  },
  {
   "cell_type": "code",
   "execution_count": null,
   "metadata": {},
   "outputs": [],
   "source": [
    "# base.corrwith(comp, method='spearman').to_frame(f'corr_{comp_path.replace(\"data_frames_\", \"\")}').join(\n",
    "#     base.mean().to_frame('base_mean')).join(\n",
    "#     base.std().to_frame('base_std')).join(\n",
    "#     comp.mean().to_frame(f'{comp_path.replace(\"data_frames_\", \"\")}_mean')).join(\n",
    "#     comp.std().to_frame(f'{comp_path.replace(\"data_frames_\", \"\")}_std')).join(\n",
    "#     (comp.mean()-base.mean()).to_frame(f'{comp_path.replace(\"data_frames_\", \"\")}_diff'))    "
   ]
  },
  {
   "cell_type": "code",
   "execution_count": null,
   "metadata": {},
   "outputs": [],
   "source": [
    "# heaps_base = pd.read_csv(os.path.join('data_frames_i90', 'heaps_genes.csv'), index_col=0)\n",
    "# heaps_comp = pd.read_csv(os.path.join('data_frames_i95', 'heaps_genes.csv'), index_col=0)"
   ]
  },
  {
   "cell_type": "code",
   "execution_count": null,
   "metadata": {},
   "outputs": [],
   "source": [
    "# heaps_base.shape\n",
    "# heaps_comp.shape"
   ]
  },
  {
   "cell_type": "code",
   "execution_count": null,
   "metadata": {},
   "outputs": [],
   "source": [
    "# heaps_base.index.intersection(heaps_comp.index)\n",
    "# heaps_base.index.difference(heaps_comp.index)\n",
    "# heaps_comp.index.difference(heaps_base.index)"
   ]
  },
  {
   "cell_type": "code",
   "execution_count": null,
   "metadata": {},
   "outputs": [],
   "source": [
    "# heaps_base[heaps_base['p_bonferroni'] < 0.05].shape\n",
    "# heaps_comp[heaps_comp['p_bonferroni'] < 0.05].shape"
   ]
  },
  {
   "cell_type": "code",
   "execution_count": null,
   "metadata": {},
   "outputs": [],
   "source": [
    "# heaps_base[heaps_base['p_bonferroni'] < 0.05].index.intersection(heaps_comp[heaps_comp['p_bonferroni'] < 0.05].index)\n",
    "# heaps_base[heaps_base['p_bonferroni'] < 0.05].index.difference(heaps_comp[heaps_comp['p_bonferroni'] < 0.05].index).shape#.tolist()\n",
    "# heaps_comp[heaps_comp['p_bonferroni'] < 0.05].index.difference(heaps_base[heaps_base['p_bonferroni'] < 0.05].index)"
   ]
  }
 ],
 "metadata": {
  "kernelspec": {
   "display_name": "Python 3",
   "language": "python",
   "name": "python3"
  },
  "language_info": {
   "codemirror_mode": {
    "name": "ipython",
    "version": 3
   },
   "file_extension": ".py",
   "mimetype": "text/x-python",
   "name": "python",
   "nbconvert_exporter": "python",
   "pygments_lexer": "ipython3",
   "version": "3.7.4"
  },
  "toc": {
   "nav_menu": {},
   "number_sections": true,
   "sideBar": true,
   "skip_h1_title": false,
   "toc_cell": false,
   "toc_position": {
    "height": "624.475px",
    "left": "0px",
    "right": "1533.47px",
    "top": "110.525px",
    "width": "211.95px"
   },
   "toc_section_display": "block",
   "toc_window_display": true
  }
 },
 "nbformat": 4,
 "nbformat_minor": 4
}
